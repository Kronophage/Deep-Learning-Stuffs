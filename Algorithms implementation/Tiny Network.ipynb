{
 "cells": [
  {
   "attachments": {},
   "cell_type": "markdown",
   "metadata": {},
   "source": [
    "# Un tout petit Network\n",
    "\n",
    "Ici, nous allons implementer le Neural Network le plus simple possible.  \n",
    "Il s'agira d'un réseau avec trois inputs, et un output :  \n",
    "![title](img/modele.png)\n",
    "\n"
   ]
  },
  {
   "cell_type": "code",
   "execution_count": 1,
   "metadata": {},
   "outputs": [],
   "source": [
    "import numpy as np  #La bibliothèque indispensable pour les opérations mathématiques."
   ]
  },
  {
   "attachments": {
    "tab.png": {
     "image/png": "[encoded data removed]"
    }
   },
   "cell_type": "markdown",
   "metadata": {},
   "source": [
    "En premier lieux, nous allons créer notre dataset. \n",
    "\n",
    "Pour cet exemple, il sera consitué de tableaux à trois booléens.  \n",
    "Le résultat attendu sera de 1 si le premier et troisieme booléens sont positifs, et 0 dans le cas contraire.\n",
    "![tab.png](attachment:tab.png)\n"
   ]
  },
  {
   "cell_type": "code",
   "execution_count": 2,
   "metadata": {},
   "outputs": [
    {
     "name": "stdout",
     "output_type": "stream",
     "text": [
      "Output Matrice : \n",
      "[[0]\n",
      " [1]\n",
      " [1]\n",
      " [0]]\n"
     ]
    }
   ],
   "source": [
    "#Matrice d'inputs\n",
    "inputs = np.array([  [0, 0, 1],  \n",
    "                     [1, 1, 1],  \n",
    "                     [1, 0, 1],  \n",
    "                     [0, 1, 1]])\n",
    "\n",
    "#Matrice d'outputs attendus\n",
    "outputs = np.array([[0, 1, 1, 0]]).T\n",
    "\n",
    "print(\"Output Matrice : \\n{}\".format(outputs))\n"
   ]
  },
  {
   "cell_type": "markdown",
   "metadata": {},
   "source": [
    "L'etape suivante vas être d'initialiser nos poids.  \n",
    "Pour cet exemple, nous allons utiliser une seed, pour rendre nos calculs déterministes.  \n",
    "Malgré la fonction random utilisé, notre système réagira toujours de la même façon."
   ]
  },
  {
   "cell_type": "code",
   "execution_count": 3,
   "metadata": {},
   "outputs": [
    {
     "name": "stdout",
     "output_type": "stream",
     "text": [
      "Weights matrice : \n",
      "[[-0.16595599]\n",
      " [ 0.44064899]\n",
      " [-0.99977125]]\n"
     ]
    }
   ],
   "source": [
    "#En utilisant cette ligne, \n",
    "np.random.seed(1)\n",
    "\n",
    "#Initialise nos quatre poids entre -1 et 1.\n",
    "weights = 2*np.random.random((3,1))-1\n",
    "\n",
    "print(\"Weights matrice : \\n{}\".format(weights))"
   ]
  },
  {
   "attachments": {
    "sigmoid.png": {
     "image/png": "[encoded data removed]"
    }
   },
   "cell_type": "markdown",
   "metadata": {},
   "source": [
    "Avant de passer à l'entrainement, il nous reste encore à définir notre fonction d'activation.  \n",
    "Ici, nous allons utiliser la fonction __sigmoide__, qui rajoute de la non-linéarité dans notre modèle, en plus de ramener nos valeures entre 0 et 1 :  \n",
    "![sigmoid.png](attachment:sigmoid.png)  "
   ]
  },
  {
   "cell_type": "code",
   "execution_count": 4,
   "metadata": {},
   "outputs": [],
   "source": [
    "def sigmoid(x, derivation=False):\n",
    "    if(derivation):\n",
    "        return x*(1-x)\n",
    "    return 1/(1+np.exp(-x))"
   ]
  },
  {
   "cell_type": "markdown",
   "metadata": {},
   "source": [
    "A cette étape, nous pouvons faire un premier test, pour voir si notre modèle est capable de prédire les résultats qu'on attend de lui :"
   ]
  },
  {
   "cell_type": "code",
   "execution_count": 5,
   "metadata": {},
   "outputs": [
    {
     "name": "stdout",
     "output_type": "stream",
     "text": [
      "[[0.2689864 ]\n",
      " [0.3262757 ]\n",
      " [0.23762817]\n",
      " [0.36375058]]\n",
      "Taux d'erreur :51.72%\n"
     ]
    }
   ],
   "source": [
    "result = sigmoid(np.dot(inputs, weights))\n",
    "print(result)\n",
    "\n",
    "#Calcul de l'erreur en pourcentage\n",
    "error = outputs - result\n",
    "error = np.mean(np.abs(error))\n",
    "error = float(int(error*10000))/100\n",
    "print(\"Taux d'erreur :\"+str(error)+\"%\")"
   ]
  },
  {
   "cell_type": "markdown",
   "metadata": {},
   "source": [
    "Sachant que les résultats attendus sont : (0, 1, 1, 0), nous somme à plus de 50% d'erreur.\n",
    "C'est normal, à ce stade, notre modèle est encore initialisé aléatoirement. Le réseau à besoin d'entrainement.  \n",
    "\n",
    "Pour la prochaine étape, nous allons faire un millier d'itérations pour corriger les poids qui relient chaque neuronnes d'input à notre résultat."
   ]
  },
  {
   "cell_type": "code",
   "execution_count": 6,
   "metadata": {},
   "outputs": [
    {
     "name": "stdout",
     "output_type": "stream",
     "text": [
      "Output apres 1000 iterations: \n",
      "[[0.03178421]\n",
      " [0.97414645]\n",
      " [0.97906682]\n",
      " [0.02576499]]\n",
      "Taux d'erreur :2.6%\n"
     ]
    }
   ],
   "source": [
    "nbIterations = 1000\n",
    "for _ in range(nbIterations):\n",
    "    #Forward propagation\n",
    "    #C'est ici qu'on multiplie nos inputs par leurs poids correspondants\n",
    "    result = sigmoid(np.dot(inputs, weights))\n",
    "    \n",
    "    error = outputs - result\n",
    "    \n",
    "    delta = error * sigmoid(result, True)\n",
    "    \n",
    "    weights += np.dot(inputs.T, delta)\n",
    "    \n",
    "print(\"Output apres {} iterations: \\n{}\".format(nbIterations, result))\n",
    "error = np.mean(np.abs(error))\n",
    "error = float(int(error*10000))/100\n",
    "print(\"Taux d'erreur :\"+str(error)+\"%\")"
   ]
  },
  {
   "cell_type": "markdown",
   "metadata": {},
   "source": [
    "# Resultats :\n",
    "\n",
    "On voit bien qu'après 1000 itérations, le réseau de neuronnes ne commet plus que 2% d'erreures.  \n",
    "Etant donné la simplicité de ce modèle, il serais facile de le faire tourner sur 10000, voire 100000 itérations, et ainsi réduire encore le taux d'erreures."
   ]
  },
  {
   "cell_type": "markdown",
   "metadata": {},
   "source": [
    "# Sources :\n",
    "\n",
    "Ce micro tuto est une simple adaptation de l'article trouvable sur le site __[iamtrask](https://iamtrask.github.io/2015/07/12/basic-python-network/)__, tout le mérite leurs reviens\n",
    "\n",
    "N'hesitez pas à aller voir les vidéos de __[3Blue1Brown](https://www.youtube.com/watch?v=aircAruvnKk&t=407s)__, qui fait un travail fantastique pour expliquer clairement les fonctionnements des réseaux de neuronnes, ainsi que beaucoup d'autre sujets reliés au Machine Learning"
   ]
  },
  {
   "cell_type": "code",
   "execution_count": null,
   "metadata": {},
   "outputs": [],
   "source": []
  }
 ],
 "metadata": {
  "kernelspec": {
   "display_name": "Python 3",
   "language": "python",
   "name": "python3"
  },
  "language_info": {
   "codemirror_mode": {
    "name": "ipython",
    "version": 3
   },
   "file_extension": ".py",
   "mimetype": "text/x-python",
   "name": "python",
   "nbconvert_exporter": "python",
   "pygments_lexer": "ipython3",
   "version": "3.6.5"
  }
 },
 "nbformat": 4,
 "nbformat_minor": 2
}
